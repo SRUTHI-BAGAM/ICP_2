{
 "cells": [
  {
   "cell_type": "code",
   "execution_count": 1,
   "id": "7339e3ed",
   "metadata": {},
   "outputs": [
    {
     "name": "stdout",
     "output_type": "stream",
     "text": [
      "Enter the first name: Sruthi\n",
      "Enter the last name: Bagam\n",
      "Full name is: Sruthi Bagam\n",
      "Suh aa\n"
     ]
    }
   ],
   "source": [
    "First_name = input(\"Enter the first name: \")\n",
    "Last_name = input(\"Enter the last name: \")\n",
    "fullName = First_name + \" \" + Last_name\n",
    "\n",
    "def Full_name(fn,ln):\n",
    "    print(\"Full name is: \" + fn +\" \"+ ln)\n",
    "\n",
    "Full_name(First_name, Last_name)\n",
    "\n",
    "def string_alternative(str):\n",
    "    print(str[::2])\n",
    "\n",
    "string_alternative(fullName)"
   ]
  },
  {
   "cell_type": "code",
   "execution_count": 2,
   "id": "e2e45081",
   "metadata": {},
   "outputs": [
    {
     "ename": "FileNotFoundError",
     "evalue": "[Errno 2] No such file or directory: 'Input.txt'",
     "output_type": "error",
     "traceback": [
      "\u001b[1;31m---------------------------------------------------------------------------\u001b[0m",
      "\u001b[1;31mFileNotFoundError\u001b[0m                         Traceback (most recent call last)",
      "Cell \u001b[1;32mIn[2], line 15\u001b[0m\n\u001b[0;32m     12\u001b[0m             s \u001b[38;5;241m=\u001b[39m \u001b[38;5;124m\"\u001b[39m\u001b[38;5;130;01m\\n\u001b[39;00m\u001b[38;5;124m\"\u001b[39m \u001b[38;5;241m+\u001b[39m w \u001b[38;5;241m+\u001b[39m \u001b[38;5;124m\"\u001b[39m\u001b[38;5;124m \u001b[39m\u001b[38;5;124m\"\u001b[39m \u001b[38;5;241m+\u001b[39m \u001b[38;5;28mstr\u001b[39m(word\u001b[38;5;241m.\u001b[39mcount(w))\n\u001b[0;32m     13\u001b[0m             output_file\u001b[38;5;241m.\u001b[39mwrite(s)\n\u001b[1;32m---> 15\u001b[0m wordcount()\n",
      "Cell \u001b[1;32mIn[2], line 2\u001b[0m, in \u001b[0;36mwordcount\u001b[1;34m()\u001b[0m\n\u001b[0;32m      1\u001b[0m \u001b[38;5;28;01mdef\u001b[39;00m \u001b[38;5;21mwordcount\u001b[39m():\n\u001b[1;32m----> 2\u001b[0m     input_file \u001b[38;5;241m=\u001b[39m \u001b[38;5;28mopen\u001b[39m(\u001b[38;5;124m\"\u001b[39m\u001b[38;5;124mInput.txt\u001b[39m\u001b[38;5;124m\"\u001b[39m, \u001b[38;5;124m\"\u001b[39m\u001b[38;5;124mr\u001b[39m\u001b[38;5;124m\"\u001b[39m)\n\u001b[0;32m      3\u001b[0m     data \u001b[38;5;241m=\u001b[39m input_file\u001b[38;5;241m.\u001b[39mreadlines()\n\u001b[0;32m      4\u001b[0m     output_file \u001b[38;5;241m=\u001b[39m \u001b[38;5;28mopen\u001b[39m(\u001b[38;5;124m\"\u001b[39m\u001b[38;5;124mOutput.txt\u001b[39m\u001b[38;5;124m\"\u001b[39m, \u001b[38;5;124m\"\u001b[39m\u001b[38;5;124mw\u001b[39m\u001b[38;5;124m\"\u001b[39m)\n",
      "File \u001b[1;32m~\\anaconda3\\Lib\\site-packages\\IPython\\core\\interactiveshell.py:286\u001b[0m, in \u001b[0;36m_modified_open\u001b[1;34m(file, *args, **kwargs)\u001b[0m\n\u001b[0;32m    279\u001b[0m \u001b[38;5;28;01mif\u001b[39;00m file \u001b[38;5;129;01min\u001b[39;00m {\u001b[38;5;241m0\u001b[39m, \u001b[38;5;241m1\u001b[39m, \u001b[38;5;241m2\u001b[39m}:\n\u001b[0;32m    280\u001b[0m     \u001b[38;5;28;01mraise\u001b[39;00m \u001b[38;5;167;01mValueError\u001b[39;00m(\n\u001b[0;32m    281\u001b[0m         \u001b[38;5;124mf\u001b[39m\u001b[38;5;124m\"\u001b[39m\u001b[38;5;124mIPython won\u001b[39m\u001b[38;5;124m'\u001b[39m\u001b[38;5;124mt let you open fd=\u001b[39m\u001b[38;5;132;01m{\u001b[39;00mfile\u001b[38;5;132;01m}\u001b[39;00m\u001b[38;5;124m by default \u001b[39m\u001b[38;5;124m\"\u001b[39m\n\u001b[0;32m    282\u001b[0m         \u001b[38;5;124m\"\u001b[39m\u001b[38;5;124mas it is likely to crash IPython. If you know what you are doing, \u001b[39m\u001b[38;5;124m\"\u001b[39m\n\u001b[0;32m    283\u001b[0m         \u001b[38;5;124m\"\u001b[39m\u001b[38;5;124myou can use builtins\u001b[39m\u001b[38;5;124m'\u001b[39m\u001b[38;5;124m open.\u001b[39m\u001b[38;5;124m\"\u001b[39m\n\u001b[0;32m    284\u001b[0m     )\n\u001b[1;32m--> 286\u001b[0m \u001b[38;5;28;01mreturn\u001b[39;00m io_open(file, \u001b[38;5;241m*\u001b[39margs, \u001b[38;5;241m*\u001b[39m\u001b[38;5;241m*\u001b[39mkwargs)\n",
      "\u001b[1;31mFileNotFoundError\u001b[0m: [Errno 2] No such file or directory: 'Input.txt'"
     ]
    }
   ],
   "source": [
    "def wordcount():\n",
    "    input_file = open(\"Input.txt\", \"r\")\n",
    "    data = input_file.readlines()\n",
    "    output_file = open(\"Output.txt\", \"w\")\n",
    "    output_file.writelines(data)\n",
    "    output_file.write(\"\\n Word_Count : \")\n",
    "\n",
    "    dict = {}\n",
    "    for line in data:\n",
    "        word = line.strip().split(\" \")\n",
    "        for w in word:\n",
    "            s = \"\\n\" + w + \" \" + str(word.count(w))\n",
    "            output_file.write(s)\n",
    "\n",
    "wordcount()"
   ]
  },
  {
   "cell_type": "code",
   "execution_count": 3,
   "id": "48681382",
   "metadata": {},
   "outputs": [
    {
     "name": "stdout",
     "output_type": "stream",
     "text": [
      "List in Inches [150, 155, 145, 148]\n",
      "List in cm's [375.0, 387.5, 362.5, 370.0]\n"
     ]
    }
   ],
   "source": [
    "def convert():\n",
    "    inches = [150, 155, 145, 148]\n",
    "    cms = []\n",
    "    for item in inches:\n",
    "        cms.append(item * 2.5)\n",
    "    print(\"List in Inches\", inches)\n",
    "    print(\"List in cm's\", [item * 2.5 for item in inches])\n",
    "\n",
    "convert()"
   ]
  },
  {
   "cell_type": "code",
   "execution_count": null,
   "id": "4584cde8",
   "metadata": {},
   "outputs": [],
   "source": []
  }
 ],
 "metadata": {
  "kernelspec": {
   "display_name": "Python 3 (ipykernel)",
   "language": "python",
   "name": "python3"
  },
  "language_info": {
   "codemirror_mode": {
    "name": "ipython",
    "version": 3
   },
   "file_extension": ".py",
   "mimetype": "text/x-python",
   "name": "python",
   "nbconvert_exporter": "python",
   "pygments_lexer": "ipython3",
   "version": "3.11.5"
  }
 },
 "nbformat": 4,
 "nbformat_minor": 5
}
